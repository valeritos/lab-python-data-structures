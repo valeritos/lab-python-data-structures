{
 "cells": [
  {
   "cell_type": "markdown",
   "metadata": {
    "tags": []
   },
   "source": [
    "# Lab | Data Structures "
   ]
  },
  {
   "cell_type": "markdown",
   "metadata": {},
   "source": [
    "## Exercise: Managing Customer Orders\n",
    "\n",
    "As part of a business venture, you are starting an online store that sells various products. To ensure smooth operations, you need to develop a program that manages customer orders and inventory.\n",
    "\n",
    "Follow the steps below to complete the exercise:\n",
    "\n",
    "1. Define a list called `products` that contains the following items: \"t-shirt\", \"mug\", \"hat\", \"book\", \"keychain\".\n",
    "\n",
    "2. Create an empty dictionary called `inventory`.\n",
    "\n",
    "3. Ask the user to input the quantity of each product available in the inventory. Use the product names from the `products` list as keys in the `inventory` dictionary and assign the respective quantities as values.\n",
    "\n",
    "4. Create an empty set called `customer_orders`.\n",
    "\n",
    "5. Ask the user to input the name of three products that a customer wants to order (from those in the products list, meaning three products out of \"t-shirt\", \"mug\", \"hat\", \"book\" or \"keychain\". Add each product name to the `customer_orders` set.\n",
    "\n",
    "6. Print the products in the `customer_orders` set.\n",
    "\n",
    "7. Calculate the following order statistics:\n",
    "   - Total Products Ordered: The total number of products in the `customer_orders` set.\n",
    "   - Percentage of Products Ordered: The percentage of products ordered compared to the total available products.\n",
    "   \n",
    "   Store these statistics in a tuple called `order_status`.\n",
    "\n",
    "8. Print the order statistics using the following format:\n",
    "   ```\n",
    "   Order Statistics:\n",
    "   Total Products Ordered: <total_products_ordered>\n",
    "   Percentage of Products Ordered: <percentage_ordered>% \n",
    "   ```\n",
    "\n",
    "9. Update the inventory by subtracting 1 from the quantity of each product. Modify the `inventory` dictionary accordingly.\n",
    "\n",
    "10. Print the updated inventory, displaying the quantity of each product on separate lines.\n",
    "\n",
    "Solve the exercise by implementing the steps using the Python concepts of lists, dictionaries, sets, and basic input/output operations. "
   ]
  },
  {
   "cell_type": "code",
   "execution_count": 1,
   "metadata": {},
   "outputs": [],
   "source": [
    "#1\n",
    "products=[\"t-shirt\", \"mug\", \"hat\", \"book\", \"keychain\"]"
   ]
  },
  {
   "cell_type": "code",
   "execution_count": 2,
   "metadata": {},
   "outputs": [],
   "source": [
    "#2\n",
    "inventory={}"
   ]
  },
  {
   "cell_type": "code",
   "execution_count": 3,
   "metadata": {},
   "outputs": [
    {
     "name": "stdout",
     "output_type": "stream",
     "text": [
      "How many t-shirts are available in the inventory? Please input a whole number.56\n",
      "How many mugs are available in the inventory? Please input a whole number.43\n",
      "How many hats are available in the inventory? Please input a whole number.12\n",
      "How many books are available in the inventory? Please input a whole number.111\n",
      "How many keychains are available in the inventory? Please input a whole number.90\n",
      "Currently available inventory: {'t-shirt': 56, 'mug': 43, 'hat': 12, 'book': 111, 'keychain': 90}\n"
     ]
    }
   ],
   "source": [
    "#3\n",
    "for product in products:\n",
    "    inventory[product]=int(input(f\"How many {product}s are available in the inventory? Please input a whole number.\"))\n",
    "print(\"Currently available inventory:\",inventory)"
   ]
  },
  {
   "cell_type": "code",
   "execution_count": 4,
   "metadata": {},
   "outputs": [],
   "source": [
    "#4\n",
    "customer_orders=set()"
   ]
  },
  {
   "cell_type": "code",
   "execution_count": 5,
   "metadata": {},
   "outputs": [
    {
     "name": "stdout",
     "output_type": "stream",
     "text": [
      "Which three products would you like to order? Please type one of the following choices: ['t-shirt', 'mug', 'hat', 'book', 'keychain']book\n",
      "Which three products would you like to order? Please type one of the following choices: ['t-shirt', 'mug', 'hat', 'book', 'keychain']mug\n",
      "Which three products would you like to order? Please type one of the following choices: ['t-shirt', 'mug', 'hat', 'book', 'keychain']keychain\n"
     ]
    }
   ],
   "source": [
    "#5\n",
    "for i in [1,2,3]:\n",
    "    order=str(input(f\"Which three products would you like to order? Please type one of the following choices: {products}\"))\n",
    "    if order in products:\n",
    "        customer_orders.add(order)\n",
    "    else:\n",
    "        print(\"Please check spelling against the provided product list.\")\n",
    "        break"
   ]
  },
  {
   "cell_type": "code",
   "execution_count": 6,
   "metadata": {},
   "outputs": [
    {
     "name": "stdout",
     "output_type": "stream",
     "text": [
      "Customer is ordering: {'mug', 'book', 'keychain'}\n"
     ]
    }
   ],
   "source": [
    "#6\n",
    "print(\"Customer is ordering:\",customer_orders)"
   ]
  },
  {
   "cell_type": "code",
   "execution_count": 7,
   "metadata": {},
   "outputs": [
    {
     "name": "stdout",
     "output_type": "stream",
     "text": [
      "You selected mugs to order, and we have 43 units available. How many would you like to order?\n",
      "Please input a whole number.25\n",
      "You selected books to order, and we have 111 units available. How many would you like to order?\n",
      "Please input a whole number.92\n",
      "You selected keychains to order, and we have 90 units available. How many would you like to order?\n",
      "Please input a whole number.67\n",
      "Customer has selected to order: {'mug': 25, 'book': 92, 'keychain': 67}\n"
     ]
    }
   ],
   "source": [
    "#7-8\n",
    "cust_orders_num={}\n",
    "for order in customer_orders:\n",
    "    num_stock=inventory[order]\n",
    "    num_order=int(input(f\"You selected {order}s to order, and we have {num_stock} units available. How many would you like to order?\\nPlease input a whole number.\"))\n",
    "    if num_order<=num_stock:\n",
    "        cust_orders_num[order]=num_order\n",
    "    else:\n",
    "        print(\"We do not have enough items in stock. Please adjust the quantity.\")\n",
    "        break\n",
    "print(\"Customer has selected to order:\",cust_orders_num)"
   ]
  },
  {
   "cell_type": "code",
   "execution_count": 8,
   "metadata": {},
   "outputs": [],
   "source": [
    "#NOTE TO FRED AND RICARDO - I THINK I OVERCOMPLICATED\n",
    "#cell above asks customer to input how many items of products they want to order\n",
    "#customer_orders is a set as per task instructions and simply contains set of ordered products\n",
    "#cust_orders_num is a dict of pairs of products and their ordered quantities checked against available inventory\n",
    "#all further calculations post task 7 are calculated for both scenarios"
   ]
  },
  {
   "cell_type": "code",
   "execution_count": 9,
   "metadata": {},
   "outputs": [
    {
     "name": "stdout",
     "output_type": "stream",
     "text": [
      "Order Statistics:\n",
      "Total Products Ordered:  3 \n",
      "Percentage of Products Ordered:  0.9615384615384616 %\n"
     ]
    }
   ],
   "source": [
    "#for customer_orders:\n",
    "print(\"Order Statistics:\\nTotal Products Ordered: \",len(customer_orders),\"\\nPercentage of Products Ordered: \",len(customer_orders)/sum(inventory.values())*100,\"%\")"
   ]
  },
  {
   "cell_type": "code",
   "execution_count": 10,
   "metadata": {},
   "outputs": [
    {
     "name": "stdout",
     "output_type": "stream",
     "text": [
      "Order Statistics:\n",
      "Total Products Ordered:  184 \n",
      "Percentage of Products Ordered:  58.97435897435898 %\n"
     ]
    }
   ],
   "source": [
    "#for cust_orders_num:\n",
    "print(\"Order Statistics:\\nTotal Products Ordered: \",sum(cust_orders_num.values()),\"\\nPercentage of Products Ordered: \",sum(cust_orders_num.values())/sum(inventory.values())*100,\"%\")"
   ]
  },
  {
   "cell_type": "code",
   "execution_count": 11,
   "metadata": {},
   "outputs": [
    {
     "name": "stdout",
     "output_type": "stream",
     "text": [
      "Order Status for customer_orders: (3, 0.9615384615384616) \n",
      "Order Status for cust_num_orders: (184, 58.97435897435898)\n"
     ]
    }
   ],
   "source": [
    "#7-8\n",
    "order_status1=(len(customer_orders),len(customer_orders)/sum(inventory.values())*100)\n",
    "order_status2=(sum(cust_orders_num.values()),sum(cust_orders_num.values())/sum(inventory.values())*100)\n",
    "\n",
    "print (\"Order Status for customer_orders:\",order_status1,\"\\nOrder Status for cust_num_orders:\",order_status2)"
   ]
  },
  {
   "cell_type": "code",
   "execution_count": 12,
   "metadata": {},
   "outputs": [
    {
     "name": "stdout",
     "output_type": "stream",
     "text": [
      "Updated inventory by substracting 1:\n",
      "t-shirt : 56\n",
      "mug : 43\n",
      "hat : 12\n",
      "book : 111\n",
      "keychain : 90\n"
     ]
    }
   ],
   "source": [
    "#9-10\n",
    "print(\"Updated inventory by substracting 1:\")\n",
    "for product,inv in inventory.items():\n",
    "    inventory[product]=inv-1\n",
    "    print(product,\":\",inv)"
   ]
  },
  {
   "cell_type": "code",
   "execution_count": null,
   "metadata": {},
   "outputs": [],
   "source": []
  }
 ],
 "metadata": {
  "kernelspec": {
   "display_name": "Python 3 (ipykernel)",
   "language": "python",
   "name": "python3"
  },
  "language_info": {
   "codemirror_mode": {
    "name": "ipython",
    "version": 3
   },
   "file_extension": ".py",
   "mimetype": "text/x-python",
   "name": "python",
   "nbconvert_exporter": "python",
   "pygments_lexer": "ipython3",
   "version": "3.11.4"
  }
 },
 "nbformat": 4,
 "nbformat_minor": 4
}
